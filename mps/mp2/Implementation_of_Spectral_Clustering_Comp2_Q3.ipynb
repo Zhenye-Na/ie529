{
 "cells": [
  {
   "cell_type": "markdown",
   "metadata": {},
   "source": [
    "## III. Write an implementation of the Spectral Clustering algorithm, using either basic unnormalized clustering or normalized clustering (refer to the reading by Luxborg for details). Assume you are given a matrix of data X ∈ R N×d , and you would like to identify some user-selected number of clusters, K. Your outputs should be:\n",
    "- a weighted adjacency matrix, W, using the Gaussian similarity function based on the Eu- clidean distance (with parameter value σ of your choice but clearly stated) and a k-nearest neighborhood structure (where k is also your choice and clearly stated);\n",
    "\n",
    "- a matrix U containing the ﬁrst K eigenvectors of the Laplacian L (or generalized eigenvectors for the normalized case).; \n",
    "\n",
    "- a cluster index vector C ∈ {1, 2, . . . , K} N , where C(i) = j indicates that the ith row of U belongs to cluster j."
   ]
  },
  {
   "cell_type": "markdown",
   "metadata": {},
   "source": [
    "### basic unnormalized clustering"
   ]
  },
  {
   "cell_type": "code",
   "execution_count": 106,
   "metadata": {
    "collapsed": true
   },
   "outputs": [],
   "source": [
    "import csv\n",
    "import math\n",
    "import numpy as np\n",
    "import scipy as sp\n",
    "from scipy.linalg import eigh\n",
    "from numpy.linalg import norm\n",
    "import matplotlib.pyplot as plt\n",
    "from sklearn.neighbors import NearestNeighbors"
   ]
  },
  {
   "cell_type": "code",
   "execution_count": 107,
   "metadata": {
    "collapsed": true
   },
   "outputs": [],
   "source": [
    "with open('/Users/macbookpro/Desktop/IE529_Comp2/Dataset_1/clustering.csv', 'r') as csvfile:\n",
    "    reader = csv.reader(csvfile, delimiter=',')\n",
    "    x = list(reader)\n",
    "    data_1 = np.array(x).astype(\"float\")\n",
    "    \n",
    "    \n",
    "with open('/Users/macbookpro/Desktop/IE529_Comp2/Dataset_2/ShapedData.csv', 'r') as csvfile:\n",
    "    reader = csv.reader(csvfile, delimiter=',')\n",
    "    x = list(reader)\n",
    "    data_2 = np.array(x).astype(\"float\")"
   ]
  },
  {
   "cell_type": "markdown",
   "metadata": {},
   "source": [
    "#### Define adj matrix"
   ]
  },
  {
   "cell_type": "code",
   "execution_count": 109,
   "metadata": {
    "collapsed": true
   },
   "outputs": [],
   "source": [
    "# Gaussian similarity function\n",
    "# For example, one can choose σ in the order of the mean distance of a point to its k-th nearest neighbor, \n",
    "# where k is chosen similarly as above (e.g., k ∼ log(n) + 1 ). like σ=5\n",
    "def adj_generate(X, gamma):\n",
    "    n = X.shape[0]\n",
    "    a = np.zeros([n,n])\n",
    "    for i in range(n):\n",
    "        for j in range(n):\n",
    "            a[i,j] = math.exp(-math.pow(norm((X[i]-X[j]),2), 2) * gamma)\n",
    "    return a"
   ]
  },
  {
   "cell_type": "code",
   "execution_count": 108,
   "metadata": {},
   "outputs": [],
   "source": [
    "# k-nearest neighborhood structure\n",
    "# k -> log(n) -> 3 or 4\n",
    "def adj_generate_KNN(X, k):\n",
    "    n = X.shape[0]\n",
    "    a = np.zeros([n,n])\n",
    "    neigh = NearestNeighbors(n_neighbors=k)\n",
    "    neigh.fit(X)\n",
    "    idx = neigh.kneighbors(X,  n_neighbors=k, return_distance=False)\n",
    "    for i in range(n):\n",
    "        for j in range(n):\n",
    "            if j in idx[i]:\n",
    "                a[i,j] = 1\n",
    "    return a"
   ]
  },
  {
   "cell_type": "code",
   "execution_count": 110,
   "metadata": {
    "collapsed": true
   },
   "outputs": [],
   "source": [
    "def diag_generate(a):\n",
    "    n = a.shape[0]\n",
    "    d = np.sum(a, axis = 1)\n",
    "    return np.diagflat(d)"
   ]
  },
  {
   "cell_type": "markdown",
   "metadata": {},
   "source": [
    "#### Kmeans below"
   ]
  },
  {
   "cell_type": "code",
   "execution_count": 111,
   "metadata": {
    "collapsed": true
   },
   "outputs": [],
   "source": [
    "# Randomly initialize centroids\n",
    "def centroids_init(matrix, K):\n",
    "    index = np.random.randint(low=0, high=len(matrix[:,0]), size=K)\n",
    "    centroids = matrix[index]\n",
    "    return centroids"
   ]
  },
  {
   "cell_type": "code",
   "execution_count": 135,
   "metadata": {
    "collapsed": true
   },
   "outputs": [],
   "source": [
    "def find_closest_centroids(matrix, centroids):\n",
    "    # Set m\n",
    "    m = centroids.shape[0]\n",
    "    \n",
    "    # initialize distance matrix\n",
    "    distance = np.zeros((matrix.shape[0], m))\n",
    "\n",
    "    for i in range(matrix.shape[0]):\n",
    "        for j in range(m):\n",
    "#             distance[i][j] = math.sqrt((centroids[j][0] - matrix[i][0])**2 + (centroids[j][1] - matrix[i][1])**2)\n",
    "            distance[i,j] = math.pow(norm((matrix[i,:]-centroids[j,:]),2), 0.5)\n",
    "    idx = np.argmin(distance, axis=1)\n",
    "#     new_centroids = centroids[idx]\n",
    "    return idx"
   ]
  },
  {
   "cell_type": "code",
   "execution_count": 191,
   "metadata": {
    "collapsed": true
   },
   "outputs": [],
   "source": [
    "def compute_centroids(matrix, idx, K):\n",
    "    temp = []\n",
    "    for j in range(matrix.shape[1]):\n",
    "        a = matrix[np.where(idx == 0)][:,j].sum()\n",
    "        b = len(matrix[np.where(idx == 0)])\n",
    "        temp.append(a/b)\n",
    "    centroids = np.array([temp])\n",
    "    for i in range(1, K):\n",
    "        index = matrix[np.where(idx == i)]\n",
    "        temp = []\n",
    "        for i in range(matrix.shape[1]):\n",
    "            temp.append(index[:,i].sum()/len(index))\n",
    "        centroids = np.concatenate((centroids, np.array([temp])))\n",
    "    return centroids"
   ]
  },
  {
   "cell_type": "code",
   "execution_count": 201,
   "metadata": {
    "collapsed": true
   },
   "outputs": [],
   "source": [
    "def compute_distortion(matrix, idx, centroids, K):\n",
    "    distance = []\n",
    "    for i in range(K):\n",
    "        group = matrix[np.where(idx == i)]\n",
    "        for j in range(group.shape[0]):\n",
    "            distance.append(math.pow(norm((centroids[i,:]-group[j,:]),2), 2))\n",
    "    distortion = 0\n",
    "    for i in distance:\n",
    "        distortion += i\n",
    "    return distortion"
   ]
  },
  {
   "cell_type": "markdown",
   "metadata": {},
   "source": [
    "#### Play with Dataset 2 with Gaussian similarity function\n",
    "Kmeans on spectral clustering"
   ]
  },
  {
   "cell_type": "code",
   "execution_count": 348,
   "metadata": {},
   "outputs": [],
   "source": [
    "X = data_2\n",
    "K = 6\n",
    "gamma = 1"
   ]
  },
  {
   "cell_type": "code",
   "execution_count": 349,
   "metadata": {},
   "outputs": [],
   "source": [
    "# Adjacency matrix\n",
    "A = adj_generate(X, gamma)\n",
    "# degree-diagonal matrix\n",
    "D = diag_generate(A)\n",
    "\n",
    "\n",
    "# Unnormalized clustering, Lapalacian matrix\n",
    "L = D - A\n",
    "\n",
    "# # Normalized Lapalacian matrix\n",
    "# def normalize_adj(A, D): \n",
    "#     d_inv_sqrt = np.power(D, -0.5)\n",
    "#     d_inv_sqrt[np.isinf(d_inv_sqrt)] = 0.\n",
    "#     L = sp.eye(D.shape[0]) - d_inv_sqrt.dot(A.dot(d_inv_sqrt))\n",
    "#     return L\n",
    "# L = normalize_adj(A, D)\n",
    "\n",
    "eigValue, U = np.asarray(eigh(L, eigvals=(1,K)))"
   ]
  },
  {
   "cell_type": "code",
   "execution_count": 327,
   "metadata": {},
   "outputs": [],
   "source": [
    "# parameters initialization\n",
    "max_iter = 300\n",
    "val = [0.001, 10**(-5)] # val = 10**-5\n",
    "\n",
    "centroids = centroids_init(U, K)\n",
    "\n",
    "for _ in range(max_iter):\n",
    "    idx = find_closest_centroids(U, centroids)\n",
    "    new_centroids = compute_centroids(U, idx, K)\n",
    "    d = compute_distortion(U, idx, centroids, K)\n",
    "    d_new = compute_distortion(U, idx, new_centroids, K)\n",
    "    if abs(d_new - d) < val[1]:\n",
    "        break\n",
    "    else:\n",
    "        centroids = new_centroids\n",
    "        new_centroids = compute_centroids(U, idx, K)"
   ]
  },
  {
   "cell_type": "code",
   "execution_count": null,
   "metadata": {},
   "outputs": [],
   "source": []
  },
  {
   "cell_type": "code",
   "execution_count": 358,
   "metadata": {},
   "outputs": [
    {
     "data": {
      "image/png": "[encoded data removed]",
      "text/plain": [
       "<matplotlib.figure.Figure at 0x1251d0518>"
      ]
     },
     "metadata": {},
     "output_type": "display_data"
    }
   ],
   "source": [
    "plt.plot(K_list, inertia, 'g--')\n",
    "K_list = K_list[::-1]\n",
    "inertia = inertia[::-1]\n",
    "plt.scatter(K_list, inertia, c='r', marker = 'D')\n",
    "plt.savefig('D_K.svg',format='svg')\n",
    "plt.show()"
   ]
  },
  {
   "cell_type": "code",
   "execution_count": null,
   "metadata": {},
   "outputs": [],
   "source": []
  },
  {
   "cell_type": "code",
   "execution_count": 234,
   "metadata": {},
   "outputs": [
    {
     "data": {
      "text/plain": [
       "array([[ 0.00196131,  0.00126425, -0.02279465, -0.01080707],\n",
       "       [-0.01753502,  0.01297361,  0.00511127,  0.021116  ],\n",
       "       [-0.01696202,  0.01281366,  0.003664  ,  0.02615788],\n",
       "       ..., \n",
       "       [-0.01552786,  0.00891799,  0.00610137, -0.02019692],\n",
       "       [-0.01651182,  0.01054058,  0.00645384, -0.01175206],\n",
       "       [ 0.02509135,  0.01065055,  0.01192572,  0.00288991]])"
      ]
     },
     "execution_count": 234,
     "metadata": {},
     "output_type": "execute_result"
    }
   ],
   "source": [
    "U"
   ]
  },
  {
   "cell_type": "code",
   "execution_count": 235,
   "metadata": {},
   "outputs": [
    {
     "data": {
      "text/plain": [
       "array([[  1.00000000e+00,   2.17643668e-07,   4.55907711e-05, ...,\n",
       "          2.00765232e-06,   1.21849549e-05,   1.20500035e-07],\n",
       "       [  2.17643668e-07,   1.00000000e+00,   2.95233116e-01, ...,\n",
       "          1.51993327e-10,   1.21553359e-06,   1.27463324e-20],\n",
       "       [  4.55907711e-05,   2.95233116e-01,   1.00000000e+00, ...,\n",
       "          5.54987749e-11,   2.33137852e-07,   9.67884363e-15],\n",
       "       ..., \n",
       "       [  2.00765232e-06,   1.51993327e-10,   5.54987749e-11, ...,\n",
       "          1.00000000e+00,   2.93388113e-01,   2.00118945e-25],\n",
       "       [  1.21849549e-05,   1.21553359e-06,   2.33137852e-07, ...,\n",
       "          2.93388113e-01,   1.00000000e+00,   3.24640735e-24],\n",
       "       [  1.20500035e-07,   1.27463324e-20,   9.67884363e-15, ...,\n",
       "          2.00118945e-25,   3.24640735e-24,   1.00000000e+00]])"
      ]
     },
     "execution_count": 235,
     "metadata": {},
     "output_type": "execute_result"
    }
   ],
   "source": [
    "A"
   ]
  },
  {
   "cell_type": "code",
   "execution_count": null,
   "metadata": {
    "collapsed": true
   },
   "outputs": [],
   "source": []
  },
  {
   "cell_type": "code",
   "execution_count": null,
   "metadata": {},
   "outputs": [],
   "source": []
  },
  {
   "cell_type": "markdown",
   "metadata": {},
   "source": [
    "#### Play with Dataset 1 with Gaussian similarity function\n",
    "Kmeans on spectral clustering"
   ]
  },
  {
   "cell_type": "code",
   "execution_count": 360,
   "metadata": {},
   "outputs": [],
   "source": [
    "X = data_1\n",
    "K = 2\n",
    "gamma = 1"
   ]
  },
  {
   "cell_type": "code",
   "execution_count": 361,
   "metadata": {},
   "outputs": [],
   "source": [
    "# Adjacency matrix\n",
    "A = adj_generate(X, gamma)\n",
    "# degree-diagonal matrix\n",
    "D = diag_generate(A)\n",
    "\n",
    "\n",
    "# Unnormalized clustering, Lapalacian matrix\n",
    "L = D - A\n",
    "\n",
    "# # Normalized Lapalacian matrix\n",
    "# def normalize_adj(A, D): \n",
    "#     d_inv_sqrt = np.power(D, -0.5)\n",
    "#     d_inv_sqrt[np.isinf(d_inv_sqrt)] = 0.\n",
    "#     L = sp.eye(D.shape[0]) - d_inv_sqrt.dot(A.dot(d_inv_sqrt))\n",
    "#     return L\n",
    "# L = normalize_adj(A, D)\n",
    "\n",
    "eigValue, U = np.asarray(eigh(L, eigvals=(1,K)))"
   ]
  },
  {
   "cell_type": "code",
   "execution_count": 224,
   "metadata": {},
   "outputs": [],
   "source": [
    "# parameters initialization\n",
    "max_iter = 300\n",
    "val = [0.001, 10**(-5)] # val = 10**-5\n",
    "\n",
    "centroids = centroids_init(U, K)\n",
    "\n",
    "for _ in range(max_iter):\n",
    "    idx = find_closest_centroids(U, centroids)\n",
    "    new_centroids = compute_centroids(U, idx, K)\n",
    "    d = compute_distortion(U, idx, centroids, K)\n",
    "    d_new = compute_distortion(U, idx, new_centroids, K)\n",
    "    if abs(d_new - d) < val[1]:\n",
    "        break\n",
    "    else:\n",
    "        centroids = new_centroids\n",
    "        new_centroids = compute_centroids(U, idx, K)"
   ]
  },
  {
   "cell_type": "code",
   "execution_count": null,
   "metadata": {},
   "outputs": [],
   "source": [
    "C = idx\n",
    "C"
   ]
  },
  {
   "cell_type": "code",
   "execution_count": 241,
   "metadata": {},
   "outputs": [
    {
     "data": {
      "text/plain": [
       "array([[-0.00015688, -0.00401449],\n",
       "       [-0.00020957, -0.00404215],\n",
       "       [-0.0002489 , -0.00415792],\n",
       "       ..., \n",
       "       [ 0.00129351,  0.00572052],\n",
       "       [ 0.00121567,  0.00514439],\n",
       "       [ 0.00131331,  0.00588473]])"
      ]
     },
     "execution_count": 241,
     "metadata": {},
     "output_type": "execute_result"
    }
   ],
   "source": [
    "U"
   ]
  },
  {
   "cell_type": "code",
   "execution_count": 242,
   "metadata": {},
   "outputs": [
    {
     "data": {
      "text/plain": [
       "array([[  1.00000000e+00,   2.48160734e-01,   3.06462066e-02, ...,\n",
       "          9.98950309e-25,   8.52336992e-10,   2.33620199e-18],\n",
       "       [  2.48160734e-01,   1.00000000e+00,   6.23085894e-01, ...,\n",
       "          1.54962426e-30,   6.53013575e-13,   2.40788949e-19],\n",
       "       [  3.06462066e-02,   6.23085894e-01,   1.00000000e+00, ...,\n",
       "          9.86791506e-35,   1.81971310e-15,   8.71677605e-21],\n",
       "       ..., \n",
       "       [  9.98950309e-25,   1.54962426e-30,   9.86791506e-35, ...,\n",
       "          1.00000000e+00,   8.47445696e-05,   1.04634937e-10],\n",
       "       [  8.52336992e-10,   6.53013575e-13,   1.81971310e-15, ...,\n",
       "          8.47445696e-05,   1.00000000e+00,   2.56572453e-05],\n",
       "       [  2.33620199e-18,   2.40788949e-19,   8.71677605e-21, ...,\n",
       "          1.04634937e-10,   2.56572453e-05,   1.00000000e+00]])"
      ]
     },
     "execution_count": 242,
     "metadata": {},
     "output_type": "execute_result"
    }
   ],
   "source": [
    "A"
   ]
  },
  {
   "cell_type": "code",
   "execution_count": null,
   "metadata": {},
   "outputs": [],
   "source": []
  },
  {
   "cell_type": "code",
   "execution_count": null,
   "metadata": {},
   "outputs": [],
   "source": []
  },
  {
   "cell_type": "code",
   "execution_count": null,
   "metadata": {
    "collapsed": true
   },
   "outputs": [],
   "source": []
  },
  {
   "cell_type": "code",
   "execution_count": null,
   "metadata": {},
   "outputs": [],
   "source": []
  },
  {
   "cell_type": "code",
   "execution_count": null,
   "metadata": {},
   "outputs": [],
   "source": []
  },
  {
   "cell_type": "code",
   "execution_count": null,
   "metadata": {
    "collapsed": true
   },
   "outputs": [],
   "source": []
  }
 ],
 "metadata": {
  "kernelspec": {
   "display_name": "Python 3",
   "language": "python",
   "name": "python3"
  },
  "language_info": {
   "codemirror_mode": {
    "name": "ipython",
    "version": 3
   },
   "file_extension": ".py",
   "mimetype": "text/x-python",
   "name": "python",
   "nbconvert_exporter": "python",
   "pygments_lexer": "ipython3",
   "version": "3.6.1"
  }
 },
 "nbformat": 4,
 "nbformat_minor": 2
}
